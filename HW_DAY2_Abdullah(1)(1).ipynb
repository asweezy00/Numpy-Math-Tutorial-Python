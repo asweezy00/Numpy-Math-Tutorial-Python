{
  "nbformat": 4,
  "nbformat_minor": 0,
  "metadata": {
    "colab": {
      "name": "HW_DAY2_Abdullah.ipynb",
      "provenance": [],
      "collapsed_sections": [],
      "toc_visible": true
    },
    "kernelspec": {
      "display_name": "Python 3",
      "language": "python",
      "name": "python3"
    },
    "language_info": {
      "codemirror_mode": {
        "name": "ipython",
        "version": 3
      },
      "file_extension": ".py",
      "mimetype": "text/x-python",
      "name": "python",
      "nbconvert_exporter": "python",
      "pygments_lexer": "ipython3",
      "version": "3.8.3"
    }
  },
  "cells": [
    {
      "cell_type": "markdown",
      "metadata": {
        "colab_type": "text",
        "id": "XMYfAAGrt7el"
      },
      "source": [
        "#Homework for Day Two\n",
        "\n",
        "Abdullah Shahid"
      ]
    },
    {
      "cell_type": "markdown",
      "metadata": {
        "colab_type": "text",
        "id": "J3vbqYoEwKNk"
      },
      "source": [
        "# Importing Libraries\n",
        "\n",
        "I start my programs by importing all the libraries I will need later.  Having them all at the beginning is not strictly necessary.  They MUST be imported before you use the functions, obviously (you can't use something that hasn't been imported yet), but in principle, you could import the library immediately before using the function.  I don't like to do this for three reasons: first, there are computer languages where libraries must be loaded in first, and that's how I learned it, so it's comfortable for me.  Second, you can see at a glance what libraries have already been imported, so you know what functions are available, and whether you need to import something else.  If the import commands are scattered throughout the code, you might end up importing something twice.  This is at least inefficient, and it could possibly lead to problems.  Third, it saves time.  As a general principle, I like to keep the things I only need to do once in a separate cell from the things I might have to do over and over.  If you put the import statement in the cell where you use the function, then every time you use that function, you re-import the library, and that wastes time.\n",
        "\n",
        "Anything to the right of a number sign (or hashtag for you young folks) will be ignored by the computer.  The notebook will put these comments in a green font.  When you are reading a program, you should look for the green to contain explanations about what the code is doing.  When you are writing code, you should put your own comments in, at least every few lines, so that whoever is trying to read your code (for example, me) can follow what you were trying to do (and if I am trying to help you find a mistake, this is CRITICAL!!!).\n"
      ]
    },
    {
      "cell_type": "code",
      "metadata": {
        "colab_type": "code",
        "id": "jWyxSPVCt5Ev",
        "colab": {}
      },
      "source": [
        "import numpy as np #  This is a library of useful math functions for dealing with numbers.\n",
        "import matplotlib.pyplot as plt # This is a library of useful functions for making graphs and images."
      ],
      "execution_count": 42,
      "outputs": []
    },
    {
      "cell_type": "markdown",
      "metadata": {
        "colab_type": "text",
        "id": "sjNnGvB0wPBs"
      },
      "source": [
        "# Arrays of Numbers\n",
        "\n",
        "The most common kind of variable you will be dealing with is an \"array\".  I like to think of this like a set of mailboxes.  Each mailbox has a letter in it, and the value of the variable is written on that letter.  So, I might have an array called `x`, which refers to the entire set of mailboxes.  Let's imagine them in a long row.  I can designate which mailbox I want with a number in square brackets, and python starts counting from zero.  So `x[0]` is the first mailbox, `x[1]` is the second, `x[2]` is the third, and so on.  An individual mailbox is called an \"element\" of an array.\n",
        "\n",
        "There are many ways to define arrays.  Here are four useful ways:"
      ]
    },
    {
      "cell_type": "code",
      "metadata": {
        "colab_type": "code",
        "id": "JMUhhsI7w201",
        "colab": {
          "base_uri": "https://localhost:8080/",
          "height": 222
        },
        "outputId": "c05e79b7-38f4-4960-d36b-9e5014f88662"
      },
      "source": [
        "x = np.array([10,5,12,23.2,145.1,3.14,8,24]) #this will display the numbers inside the brackets in the order they are wirtten\n",
        "print(x)\n",
        "a = np.ones(12)# this will display 12 ones \n",
        "print(a)\n",
        "b = np.zeros(5)# will output 5 zeros \n",
        "print(b)\n",
        "c = np.arange(12,18,0.5)# the first two variables represent the range of values ex. form 12 to 18 and the 3rd variable represents by how much the numbers will increase when arranged.\n",
        "print(c)\n",
        "d = np.arange(10)# the arrange function arranges the values from 0 to 10 since there is only one variable\n",
        "\n",
        "\n",
        "print(d)\n",
        "print(c[4]) #since the count starts from 0 it looks for the 4th output in the c output and prints it\n",
        "print(x[5])#similar to above where it prints out the 5th input in x\n",
        "\n",
        "\n",
        "#testing out code \n",
        "e = np.arange(5,9)\n",
        "print(e)\n",
        "\n",
        "f = np.arange(100,120,5)\n",
        "print(f)\n",
        "\n",
        "g = np.arange(20)\n",
        "print(g)\n",
        "\n",
        "print(f[3])\n",
        "\n"
      ],
      "execution_count": 2,
      "outputs": [
        {
          "output_type": "stream",
          "text": [
            "[ 10.     5.    12.    23.2  145.1    3.14   8.    24.  ]\n",
            "[1. 1. 1. 1. 1. 1. 1. 1. 1. 1. 1. 1.]\n",
            "[0. 0. 0. 0. 0.]\n",
            "[12.  12.5 13.  13.5 14.  14.5 15.  15.5 16.  16.5 17.  17.5]\n",
            "[0 1 2 3 4 5 6 7 8 9]\n",
            "14.0\n",
            "3.14\n",
            "[5 6 7 8]\n",
            "[100 105 110 115]\n",
            "[ 0  1  2  3  4  5  6  7  8  9 10 11 12 13 14 15 16 17 18 19]\n",
            "115\n"
          ],
          "name": "stdout"
        }
      ]
    },
    {
      "cell_type": "markdown",
      "metadata": {
        "colab_type": "text",
        "id": "C1sPS3xIxc-S"
      },
      "source": [
        " Change the numbers above until you understand how this works. Note the difference between `c` and `d`.  That's very important!\n",
        "\n",
        "<font color=red>Explain in your own words what each of these three commands (ones, zeros, arange) has done.</font>\n",
        "\n",
        "<font color=black> The ones command displays the number 1 and the variable in the parentheses decides how many ones will be displayed. For example, in the code 12 \"ones\" were dislayed. This is also the case for other functions such as zeros. The zeros function will display zeros and the number inside the parentheses decides how many \"zeros\" will be displayed in the case above 5 were displayed. The arange command arranges numbers based on numerical order if only one number is present in the paretnehses this indicates the command will count starting from 0 to that number. When there are 2 numbers inside the parentheses the command treats them as limits so it will arrange the numbers from the first number to the second. If a third number is added in the parentheses the command will treat it as the rule or modifer for example if it is 0.5 it will arrange numbers in a range by counting by 0.5."
      ]
    },
    {
      "cell_type": "markdown",
      "metadata": {
        "colab_type": "text",
        "id": "kbvvPB9DxpT7"
      },
      "source": [
        "You can also access ranges of numbers by using the colon.  A colon alone means \"all the elements\".  Numbers on either side of a colon can constrain the range, so `0:3` means \"the first three elements\".  You could also say `:3`.\n",
        "If you say `3:`, that means \"the elements from the fourth one and up to the end.\"  You can probably guess what `3:5` means, but you might be surprised.\n",
        "Remember that arange(4) means 0,1,2, and 3.  It doesn't go to 4.  Likewise, 0:4 actually does not include 4."
      ]
    },
    {
      "cell_type": "code",
      "metadata": {
        "colab_type": "code",
        "id": "lYFLihk7xNFf",
        "colab": {
          "base_uri": "https://localhost:8080/",
          "height": 36
        },
        "outputId": "b8072ca2-4563-4ad2-8a8c-44456b467313"
      },
      "source": [
        "print(d[3:5])"
      ],
      "execution_count": 3,
      "outputs": [
        {
          "output_type": "stream",
          "text": [
            "[3 4]\n"
          ],
          "name": "stdout"
        }
      ]
    },
    {
      "cell_type": "markdown",
      "metadata": {
        "colab_type": "text",
        "id": "ZLM1xKZ7yuak"
      },
      "source": [
        "<font color=red>Say in your own words what `print(c[6:9])` means:</font>\n",
        "\n",
        "<font color=black> The command would  mean to print from [6,9] in the output of d. This would output 6,7,8 and will not include 9 since it is 6 to 9 it would mean that it will print up to the other side of the colon."
      ]
    },
    {
      "cell_type": "markdown",
      "metadata": {
        "colab_type": "text",
        "id": "nvhhNWCQy55I"
      },
      "source": [
        "# Dimensions\n",
        "\n",
        "You can image the row of mailboxes extending left to right as far as you like.  It's a single row, and a single number will tell you which mailbox you want.  Since you only need one number, we say the array has \"one dimension\".  If you only had one mailbox, you wouldn't need a number to specify it, so we say it has zero dimensions (also known as a scalar).\n",
        "\n",
        "Now, imagine we have a second row of mailboxes, identical to the first.  We put it on top of the first.  Then a third we put on top of that.  Now, a single number isn't enough to tell you which mailbox you want, you also need a row number.  Now we have two dimensions.\n",
        "\n",
        "So you can imagine a wall of mailboxes.  Rows and columns.  Two numbers tell you which mailbox you want.  Now imagine a second wall of mailboxes.  Then a third.  And so on.  Now we need a third number to tell us which wall the mailbox we want is in.  Put all the walls together and you have a cube of mailboxes: three dimensions.\n",
        "\n",
        "You can go further.  What if you have multiple cubes of mailboxes?  You would need a fourth number to tell which cube your mailbox is in: four dimensions.  And so on.\n",
        "\n",
        "You can use `zeros` and `ones` to define arrays filled with, well, zeros and ones.  Then you can put your own letters in the mailboxes.  Note the extra set of parantheses.  That's important."
      ]
    },
    {
      "cell_type": "code",
      "metadata": {
        "colab_type": "code",
        "id": "NhHx1pDQyHcz",
        "colab": {
          "base_uri": "https://localhost:8080/",
          "height": 352
        },
        "outputId": "f287390e-6614-4336-b158-4b00acf55460"
      },
      "source": [
        "y = np.zeros((8,5)) # the command will display zeros in a array form with one side being 8 and the other 5 Note: counting starts at 0\n",
        "print('Before \\n',y)\n",
        "\n",
        "y[5,2] = 1 #this will change the output at 5,2 from zero to one\n",
        "\n",
        "print('After \\n',y)\n",
        "\n",
        "# See how the sixth row, third column changed to a 1?"
      ],
      "execution_count": 4,
      "outputs": [
        {
          "output_type": "stream",
          "text": [
            "Before \n",
            " [[0. 0. 0. 0. 0.]\n",
            " [0. 0. 0. 0. 0.]\n",
            " [0. 0. 0. 0. 0.]\n",
            " [0. 0. 0. 0. 0.]\n",
            " [0. 0. 0. 0. 0.]\n",
            " [0. 0. 0. 0. 0.]\n",
            " [0. 0. 0. 0. 0.]\n",
            " [0. 0. 0. 0. 0.]]\n",
            "After \n",
            " [[0. 0. 0. 0. 0.]\n",
            " [0. 0. 0. 0. 0.]\n",
            " [0. 0. 0. 0. 0.]\n",
            " [0. 0. 0. 0. 0.]\n",
            " [0. 0. 0. 0. 0.]\n",
            " [0. 0. 1. 0. 0.]\n",
            " [0. 0. 0. 0. 0.]\n",
            " [0. 0. 0. 0. 0.]]\n"
          ],
          "name": "stdout"
        }
      ]
    },
    {
      "cell_type": "markdown",
      "metadata": {
        "colab_type": "text",
        "id": "p8QstuI81C6q"
      },
      "source": [
        "You can do this with more dimensions, but it gets harder to represent on a 2D computer screen."
      ]
    },
    {
      "cell_type": "code",
      "metadata": {
        "colab_type": "code",
        "id": "IEjOjTaz0bMK",
        "scrolled": true,
        "colab": {
          "base_uri": "https://localhost:8080/",
          "height": 520
        },
        "outputId": "06cf9781-df65-4da4-f622-ea8c82c6c83d"
      },
      "source": [
        "z = np.zeros((8,5,3)) # Make a cube of mailboxes with 5 rows, 8 columns, and 3 walls\n",
        "z[3,:,1] = 1 # Set every mailbox in the fourth row of the second wall to 1\n",
        "for i in np.arange(3): \n",
        "  print('z for i= ',i,'\\n',z[:,:,i]) # Print all the rows and all the columns for each wall"
      ],
      "execution_count": 5,
      "outputs": [
        {
          "output_type": "stream",
          "text": [
            "z for i=  0 \n",
            " [[0. 0. 0. 0. 0.]\n",
            " [0. 0. 0. 0. 0.]\n",
            " [0. 0. 0. 0. 0.]\n",
            " [0. 0. 0. 0. 0.]\n",
            " [0. 0. 0. 0. 0.]\n",
            " [0. 0. 0. 0. 0.]\n",
            " [0. 0. 0. 0. 0.]\n",
            " [0. 0. 0. 0. 0.]]\n",
            "z for i=  1 \n",
            " [[0. 0. 0. 0. 0.]\n",
            " [0. 0. 0. 0. 0.]\n",
            " [0. 0. 0. 0. 0.]\n",
            " [1. 1. 1. 1. 1.]\n",
            " [0. 0. 0. 0. 0.]\n",
            " [0. 0. 0. 0. 0.]\n",
            " [0. 0. 0. 0. 0.]\n",
            " [0. 0. 0. 0. 0.]]\n",
            "z for i=  2 \n",
            " [[0. 0. 0. 0. 0.]\n",
            " [0. 0. 0. 0. 0.]\n",
            " [0. 0. 0. 0. 0.]\n",
            " [0. 0. 0. 0. 0.]\n",
            " [0. 0. 0. 0. 0.]\n",
            " [0. 0. 0. 0. 0.]\n",
            " [0. 0. 0. 0. 0.]\n",
            " [0. 0. 0. 0. 0.]]\n"
          ],
          "name": "stdout"
        }
      ]
    },
    {
      "cell_type": "code",
      "metadata": {
        "colab_type": "code",
        "id": "3ZanNqYp1aIc",
        "colab": {
          "base_uri": "https://localhost:8080/",
          "height": 1000
        },
        "outputId": "f306de96-9311-46ae-f289-7bc7790cc8c1"
      },
      "source": [
        "m = np.zeros((9,7,6))# this command will make a array with 7 columns, 9 rows and 6 walls\n",
        "m[4,:,2] = 7 # this command will make the 4th row of the 3rd wall all 7\n",
        "m[5,:,3] = 8\n",
        "m[6,:,3] = 9\n",
        "m[4,:,3] = 6\n",
        "for i in np.arange(6):\n",
        "    print('m for i=',i,'\\n',m[:,:,i])# this command will print out all of the columns rows and walls"
      ],
      "execution_count": 6,
      "outputs": [
        {
          "output_type": "stream",
          "text": [
            "m for i= 0 \n",
            " [[0. 0. 0. 0. 0. 0. 0.]\n",
            " [0. 0. 0. 0. 0. 0. 0.]\n",
            " [0. 0. 0. 0. 0. 0. 0.]\n",
            " [0. 0. 0. 0. 0. 0. 0.]\n",
            " [0. 0. 0. 0. 0. 0. 0.]\n",
            " [0. 0. 0. 0. 0. 0. 0.]\n",
            " [0. 0. 0. 0. 0. 0. 0.]\n",
            " [0. 0. 0. 0. 0. 0. 0.]\n",
            " [0. 0. 0. 0. 0. 0. 0.]]\n",
            "m for i= 1 \n",
            " [[0. 0. 0. 0. 0. 0. 0.]\n",
            " [0. 0. 0. 0. 0. 0. 0.]\n",
            " [0. 0. 0. 0. 0. 0. 0.]\n",
            " [0. 0. 0. 0. 0. 0. 0.]\n",
            " [0. 0. 0. 0. 0. 0. 0.]\n",
            " [0. 0. 0. 0. 0. 0. 0.]\n",
            " [0. 0. 0. 0. 0. 0. 0.]\n",
            " [0. 0. 0. 0. 0. 0. 0.]\n",
            " [0. 0. 0. 0. 0. 0. 0.]]\n",
            "m for i= 2 \n",
            " [[0. 0. 0. 0. 0. 0. 0.]\n",
            " [0. 0. 0. 0. 0. 0. 0.]\n",
            " [0. 0. 0. 0. 0. 0. 0.]\n",
            " [0. 0. 0. 0. 0. 0. 0.]\n",
            " [7. 7. 7. 7. 7. 7. 7.]\n",
            " [0. 0. 0. 0. 0. 0. 0.]\n",
            " [0. 0. 0. 0. 0. 0. 0.]\n",
            " [0. 0. 0. 0. 0. 0. 0.]\n",
            " [0. 0. 0. 0. 0. 0. 0.]]\n",
            "m for i= 3 \n",
            " [[0. 0. 0. 0. 0. 0. 0.]\n",
            " [0. 0. 0. 0. 0. 0. 0.]\n",
            " [0. 0. 0. 0. 0. 0. 0.]\n",
            " [0. 0. 0. 0. 0. 0. 0.]\n",
            " [6. 6. 6. 6. 6. 6. 6.]\n",
            " [8. 8. 8. 8. 8. 8. 8.]\n",
            " [9. 9. 9. 9. 9. 9. 9.]\n",
            " [0. 0. 0. 0. 0. 0. 0.]\n",
            " [0. 0. 0. 0. 0. 0. 0.]]\n",
            "m for i= 4 \n",
            " [[0. 0. 0. 0. 0. 0. 0.]\n",
            " [0. 0. 0. 0. 0. 0. 0.]\n",
            " [0. 0. 0. 0. 0. 0. 0.]\n",
            " [0. 0. 0. 0. 0. 0. 0.]\n",
            " [0. 0. 0. 0. 0. 0. 0.]\n",
            " [0. 0. 0. 0. 0. 0. 0.]\n",
            " [0. 0. 0. 0. 0. 0. 0.]\n",
            " [0. 0. 0. 0. 0. 0. 0.]\n",
            " [0. 0. 0. 0. 0. 0. 0.]]\n",
            "m for i= 5 \n",
            " [[0. 0. 0. 0. 0. 0. 0.]\n",
            " [0. 0. 0. 0. 0. 0. 0.]\n",
            " [0. 0. 0. 0. 0. 0. 0.]\n",
            " [0. 0. 0. 0. 0. 0. 0.]\n",
            " [0. 0. 0. 0. 0. 0. 0.]\n",
            " [0. 0. 0. 0. 0. 0. 0.]\n",
            " [0. 0. 0. 0. 0. 0. 0.]\n",
            " [0. 0. 0. 0. 0. 0. 0.]\n",
            " [0. 0. 0. 0. 0. 0. 0.]]\n"
          ],
          "name": "stdout"
        }
      ]
    },
    {
      "cell_type": "markdown",
      "metadata": {
        "colab_type": "text",
        "id": "82OZfClp3GUi"
      },
      "source": [
        "The number of rows, columns, walls, cubes, etc. in an array is called its \"shape\".  You can get the shape of an array two ways:"
      ]
    },
    {
      "cell_type": "code",
      "metadata": {
        "colab_type": "code",
        "id": "LQPnVEgx3PTC",
        "colab": {
          "base_uri": "https://localhost:8080/",
          "height": 54
        },
        "outputId": "52a113a9-b616-48f1-e9c4-92bffcc4626d"
      },
      "source": [
        "print(np.shape(z))\n",
        "print(z.shape)"
      ],
      "execution_count": 8,
      "outputs": [
        {
          "output_type": "stream",
          "text": [
            "(8, 5, 3)\n",
            "(8, 5, 3)\n"
          ],
          "name": "stdout"
        }
      ]
    },
    {
      "cell_type": "code",
      "metadata": {
        "colab_type": "code",
        "id": "oUNA0c5C3gC7",
        "colab": {
          "base_uri": "https://localhost:8080/",
          "height": 911
        },
        "outputId": "3a94b1a4-5af7-4751-e2a4-f9177d84dd53"
      },
      "source": [
        "# Once you have a shape, it's easy to make another array of the same shape:\n",
        "w = np.zeros(z.shape)\n",
        "print(w.shape)\n",
        "print(w)\n",
        "# Note that it's going in order along the dimensions: eight walls with five rows and three columns,\n",
        "# not three walls with eight rows and five columns."
      ],
      "execution_count": 9,
      "outputs": [
        {
          "output_type": "stream",
          "text": [
            "(8, 5, 3)\n",
            "[[[0. 0. 0.]\n",
            "  [0. 0. 0.]\n",
            "  [0. 0. 0.]\n",
            "  [0. 0. 0.]\n",
            "  [0. 0. 0.]]\n",
            "\n",
            " [[0. 0. 0.]\n",
            "  [0. 0. 0.]\n",
            "  [0. 0. 0.]\n",
            "  [0. 0. 0.]\n",
            "  [0. 0. 0.]]\n",
            "\n",
            " [[0. 0. 0.]\n",
            "  [0. 0. 0.]\n",
            "  [0. 0. 0.]\n",
            "  [0. 0. 0.]\n",
            "  [0. 0. 0.]]\n",
            "\n",
            " [[0. 0. 0.]\n",
            "  [0. 0. 0.]\n",
            "  [0. 0. 0.]\n",
            "  [0. 0. 0.]\n",
            "  [0. 0. 0.]]\n",
            "\n",
            " [[0. 0. 0.]\n",
            "  [0. 0. 0.]\n",
            "  [0. 0. 0.]\n",
            "  [0. 0. 0.]\n",
            "  [0. 0. 0.]]\n",
            "\n",
            " [[0. 0. 0.]\n",
            "  [0. 0. 0.]\n",
            "  [0. 0. 0.]\n",
            "  [0. 0. 0.]\n",
            "  [0. 0. 0.]]\n",
            "\n",
            " [[0. 0. 0.]\n",
            "  [0. 0. 0.]\n",
            "  [0. 0. 0.]\n",
            "  [0. 0. 0.]\n",
            "  [0. 0. 0.]]\n",
            "\n",
            " [[0. 0. 0.]\n",
            "  [0. 0. 0.]\n",
            "  [0. 0. 0.]\n",
            "  [0. 0. 0.]\n",
            "  [0. 0. 0.]]]\n"
          ],
          "name": "stdout"
        }
      ]
    },
    {
      "cell_type": "markdown",
      "metadata": {
        "colab_type": "text",
        "id": "BbJ3UtwD2nuC"
      },
      "source": [
        "# Math with Arrays\n",
        "\n",
        "The default way to do math with arrays is called \"element-wise\".  If you have two arrays `x` and `y` and you do some basic math (or even some not so basic math) on them, see what happens:"
      ]
    },
    {
      "cell_type": "code",
      "metadata": {
        "colab_type": "code",
        "id": "YflK-Tte29Bw",
        "colab": {
          "base_uri": "https://localhost:8080/",
          "height": 110
        },
        "outputId": "d9d570bf-b51c-4bef-a1d9-755f268593cc"
      },
      "source": [
        "a = np.arange(5)\n",
        "b = np.arange(5)\n",
        "\n",
        "c = a+b #operations will take place in a array form.\n",
        "d = a*b\n",
        "e = np.exp(a)\n",
        "\n",
        "print(a)\n",
        "print(b)\n",
        "print(c)\n",
        "print(d)\n",
        "print(e)"
      ],
      "execution_count": 10,
      "outputs": [
        {
          "output_type": "stream",
          "text": [
            "[0 1 2 3 4]\n",
            "[0 1 2 3 4]\n",
            "[0 2 4 6 8]\n",
            "[ 0  1  4  9 16]\n",
            "[ 1.          2.71828183  7.3890561  20.08553692 54.59815003]\n"
          ],
          "name": "stdout"
        }
      ]
    },
    {
      "cell_type": "code",
      "metadata": {
        "colab_type": "code",
        "id": "FR47iUPZ4G_4",
        "colab": {
          "base_uri": "https://localhost:8080/",
          "height": 129
        },
        "outputId": "ed812fe1-db4f-4f02-967d-c38cbb1ace0e"
      },
      "source": [
        "# But sometimes you don't want to multiply arrays elementwise; you want to multiply them as `tensors`,\n",
        "# using matrix algebra.  There are two ways to do that, to get what's called the \"inner product\"\n",
        "print(np.dot(a,b))\n",
        "print(a.dot(b))\n",
        "# The arrays have to have the same shape for this to work\n",
        "\n",
        "f = np.array([[1,2],[3,4]])\n",
        "g = np.array([[5,6],[7,8]])\n",
        "print(f*g)\n",
        "print(np.dot(f,g))\n",
        "# Note the difference between these two.  One is elementwise, the other uses matrix algebra"
      ],
      "execution_count": 11,
      "outputs": [
        {
          "output_type": "stream",
          "text": [
            "30\n",
            "30\n",
            "[[ 5 12]\n",
            " [21 32]]\n",
            "[[19 22]\n",
            " [43 50]]\n"
          ],
          "name": "stdout"
        }
      ]
    },
    {
      "cell_type": "markdown",
      "metadata": {
        "colab_type": "text",
        "id": "0i0zUxOa76QO"
      },
      "source": [
        "# Weights\n",
        "\n",
        "Let's say you are in a group of people who are trying to decide which movie to go see.  One way you could do that is to have everyone vote.  Then, whichever movie gets the most votes is the one you go see.  Each vote has equal weight in the decision.  \n",
        "\n",
        "But what if one of your friends is a professional movie critic, and another friend you just know has *terrible* taste in movies.  You want to give your critic friend more weight and your other friend less weight.  So you multiply the former vote by 2 and the latter vote by 0.5 before you add up the votes.\n",
        "\n",
        "A \"weight\" is a factor that you multiply by each term in a sum, and the bigger the weight, the more that term contributes to the sum.  You have most likely run into this with regards to grades in a course.  Often certain assignments are given different weights in how they contribute to the final grade.  It's a good idea, although not absolutely necessary, to make sure the weights add up to 1.  It makes interpretations easier."
      ]
    },
    {
      "cell_type": "code",
      "metadata": {
        "colab_type": "code",
        "id": "u7locYHL9WbB",
        "colab": {
          "base_uri": "https://localhost:8080/",
          "height": 73
        },
        "outputId": "fd4f35d0-e359-4997-b217-5a3420d057e0"
      },
      "source": [
        "w = np.array([3.,1.,3.,1.,2.])\n",
        "w = w/np.sum(w)  # This ensures the weights will add to one\n",
        "print(w)\n",
        "\n",
        "grades = np.array([5,9,2,7,6])\n",
        "\n",
        "final_grade=w.dot(grades)\n",
        "print('Weighted grade is: ',final_grade)\n",
        "\n",
        "print('For comparison, the average grade is ', np.mean(grades))"
      ],
      "execution_count": 24,
      "outputs": [
        {
          "output_type": "stream",
          "text": [
            "[0.3 0.1 0.3 0.1 0.2]\n",
            "Weighted grade is:  4.9\n",
            "For comparison, the average grade is  5.8\n"
          ],
          "name": "stdout"
        }
      ]
    },
    {
      "cell_type": "markdown",
      "metadata": {
        "colab_type": "text",
        "id": "EQgdqjNz-HSx"
      },
      "source": [
        "Now, go back to that last cell and change the weights so that the second weight is much higher than one.  <font color=red>What happens to the grade?</font>\n",
        "\n",
        "\n",
        "When the second weight is made much higher the weighted grade increases by alot and goes above the average grade. The grade increased since the grade earned for that weight was much higher than the average.\n",
        "\n",
        "Put the second one back and change the weights so that the third weight is much higher than one.  <font color=red>What happens to the grade?</font>\n",
        "\n",
        "\n",
        "The grade decreases and becomes lower than the avergae. This occurs since the grade earned for that weight is much lower than the average.\n",
        "\n"
      ]
    },
    {
      "cell_type": "markdown",
      "metadata": {
        "colab_type": "text",
        "id": "CP4dUzb0-h9d"
      },
      "source": [
        "In neural networks, you will be starting with inputs (like an image of an orange) and output (the label \"orange\" which is given the number 2), and the computer is trying to decide the weights so that the weighted sum of the pixels in the image will add up to the number 2, and not 1, which is \"apple\".\n",
        "\n",
        "<font color=red>See if you can find values for the elements of `w` to get the weighted grade to fall between 4.9 and 5.0 (there isn't one, single correct way to do this -- there will be infinite possible solutions that work):</font>\n",
        "\n",
        "The weights that gave a weighted average of 4.9 were 3,1,3,1,2.\n",
        "\n",
        "<font size=+3 color=green>REMEMBER THIS CALCULATION!!!  WE WILL COME BACK TO IT OFTEN.</font>\n",
        "\n",
        "You should also read <a href=https://medium.com/coinmonks/the-mathematics-of-neural-network-60a112dd3e05>this short article</a> about how the weights and bias numbers affect the operation of the network.  Bring questions about this tomorrow!"
      ]
    },
    {
      "cell_type": "markdown",
      "metadata": {
        "colab_type": "text",
        "id": "lKoR_mba_Th2"
      },
      "source": [
        "# Plotting Graphs and Images\n",
        "\n",
        "The simplest graph you could make would be a scatter plot of `y` vs. `x`.  Confusingly, the syntax of the python command to plot has you give the horizontal value first, when the convention when <i>talking</i> about graphs is to say the vertical value first.  So to make a plot of `y` vs. `x`, you would type `plt.plot(x,y)`.  Once you have that basic plot, there are an infinite number of ways you can modify it.  Change the labels, the size, the colors, the font, etc. etc.  See <a href=https://github.com/matplotlib/cheatsheets>here</a> for some very helpful posters that go over all the commands you can use.  There is also a jupyter notebook in the Files section of Canvas called \"Getting Started With Python\" that goes over some of the basics.\n",
        "\n",
        "An image is a three dimensional array.  Each pixel has a row and a column, but there is also a \"channel\" number.  For a grayscale image, there's only one channel, but for a color image, there are three channels for red, green, and blue.  The command `plt.imshow(imagearrayname)` will plot the image.\n",
        "There are also ways to change the color map, the axis labels, and so forth.\n",
        "\n",
        "Note that the last thing you always do when you are done with a plot is write `plt.show()`.  This essentially finalizes the output to the screen.  If you have multiple `plt.plot()` commands and then you say `plt.show()` after both of them, the computer will put both plots on the same graph.  If you put the show command twice, once after each plot, you will get two separate plots.\n",
        "\n",
        "See \"Getting Started With Python\" for more.\n",
        "\n",
        "Your last assignment for today:  Make a graph that shows `y=np.exp(x)` with `x` between zero and one as red circles connected by a blue solid line, and `z=x**2` on the same graph with green x symbols connected by a black dotted line.  Put a legend in the upper left corner that identifies one as \"exponential\" and the other as \"quadratic\".  You should use what you learned above to make `x`, `y`, and `z` as one-dimensional arrays, and you will need to use \"Getting Started\" and maybe the cheat sheet to get the rest."
      ]
    },
    {
      "cell_type": "code",
      "metadata": {
        "colab_type": "code",
        "id": "h8kWo5lbpdTm",
        "colab": {
          "base_uri": "https://localhost:8080/",
          "height": 283
        },
        "outputId": "62686ea7-6d13-4a0e-8fee-9afb63c0ee0e"
      },
      "source": [
        "\n",
        "# Create the vectors X and Y\n",
        "x = np.array(range(10))# this will set both graphs to be between 0 and 1.\n",
        "\n",
        "z = x ** 2 #quadratic equation\n",
        "y = np.exp(x) #exponential\n",
        "\n",
        "\n",
        "# Create the plot\n",
        "plt.plot(x,y,label='y = x**2')\n",
        "plt.plot(x,z,label='z = np.exp(x)')\n",
        "\n",
        "# Add X and y Label\n",
        "plt.xlabel('x axis')\n",
        "plt.ylabel('y axis')\n",
        "\n",
        "# Add a Legend\n",
        "plt.legend()\n",
        "\n",
        "axes = plt.gca()\n",
        "axes.set_xlim([0,2])\n",
        "axes.set_ylim([0,10])\n",
        "#this will set the limits to the axes to make the graph easier to read.\n",
        "\n",
        "axes.plot(x,x**2, color='purple', marker='o')\n",
        "\n",
        "\n",
        "\n",
        "# Show the plot\n",
        "plt.show()"
      ],
      "execution_count": 82,
      "outputs": [
        {
          "output_type": "display_data",
          "data": {
            "image/png": "[encoded data removed]",
            "text/plain": [
              "<Figure size 432x288 with 1 Axes>"
            ]
          },
          "metadata": {
            "tags": [],
            "needs_background": "light"
          }
        }
      ]
    },
    {
      "cell_type": "markdown",
      "metadata": {
        "colab_type": "text",
        "id": "xvrMKo7c6N5X"
      },
      "source": [
        "# Submit your homework\n",
        "\n",
        "Once you have your names in the first cell, and you have completed all the instructions, save this notebook to your computer and upload it Canvas.  If you worked in a group, only one of you needs to upload it."
      ]
    },
    {
      "cell_type": "markdown",
      "metadata": {
        "colab_type": "text",
        "id": "6tRKLdBQ6zFu"
      },
      "source": [
        "# Reading Assignment\n",
        "\n",
        "Once you have gone through this assignment, you should read <a href=https://livebook.manning.com/book/deep-learning-with-python/chapter-2/>Chapter 2</a> in Chollet (plus, of course, you should have read <a href=https://medium.com/coinmonks/the-mathematics-of-neural-network-60a112dd3e05>the short article</a> mentioned above).  Don't worry about getting all the details, but try to understand the basic ideas.  In particular, you should have a sense of what tensors are, what a gradient is, the difference between a local and a global minimum, and what a loss function is.  We will spend the next week exploring the meaning of these concepts in action, so you don't need to feel like you understand them all now, but you should get an introduction to them now, so you know when to ask questions when the concepts come up in class."
      ]
    },
    {
      "cell_type": "code",
      "metadata": {
        "colab_type": "code",
        "id": "1H3fQyPRBzTl",
        "colab": {}
      },
      "source": [
        ""
      ],
      "execution_count": null,
      "outputs": []
    }
  ]
}